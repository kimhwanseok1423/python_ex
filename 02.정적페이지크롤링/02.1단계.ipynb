{
 "cells": [
  {
   "cell_type": "code",
   "execution_count": 1,
   "metadata": {},
   "outputs": [],
   "source": [
    "import requests\n",
    "from bs4 import BeautifulSoup\n",
    "response=requests.get(\"https://startcoding.pythonanywhere.com/basic\")\n",
    "html=response.text\n",
    "soup=BeautifulSoup(html,'html.parser')\n",
    "category=soup.select_one(\".product-category\")\n",
    "name=soup.select_one(\".product-name\").text\n",
    "link=soup.select_one(\".product-name>a\").attrs['href']\n",
    "price=soup.select_one(\".product-price\").text.strip().replace(',' , \"\").replace('원', '')"
   ]
  },
  {
   "cell_type": "code",
   "execution_count": null,
   "metadata": {},
   "outputs": [],
   "source": []
  }
 ],
 "metadata": {
  "kernelspec": {
   "display_name": "Python 3",
   "language": "python",
   "name": "python3"
  },
  "language_info": {
   "codemirror_mode": {
    "name": "ipython",
    "version": 3
   },
   "file_extension": ".py",
   "mimetype": "text/x-python",
   "name": "python",
   "nbconvert_exporter": "python",
   "pygments_lexer": "ipython3",
   "version": "3.13.1"
  }
 },
 "nbformat": 4,
 "nbformat_minor": 2
}
